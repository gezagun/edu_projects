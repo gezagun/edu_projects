{
  "nbformat": 4,
  "nbformat_minor": 0,
  "metadata": {
    "colab": {
      "name": "ClickStream.ipynb",
      "provenance": [],
      "collapsed_sections": []
    },
    "kernelspec": {
      "name": "python3",
      "display_name": "Python 3"
    }
  },
  "cells": [
    {
      "cell_type": "markdown",
      "metadata": {
        "id": "SBRh3ivYhJAE"
      },
      "source": [
        "##Анализ конверсионной воронки\n"
      ]
    },
    {
      "cell_type": "code",
      "metadata": {
        "id": "IcFc3mEpzKoI"
      },
      "source": [
        "import csv"
      ],
      "execution_count": null,
      "outputs": []
    },
    {
      "cell_type": "code",
      "metadata": {
        "id": "3vvMUcjR0Eq_",
        "cellView": "form"
      },
      "source": [
        "#@title Структура многоуровневого словаря\n",
        "test_dict_2 = {\n",
        "    '2015-01':\n",
        "              {\n",
        "                'Male':\n",
        "                        {\n",
        "                          'Desktop':\n",
        "                                    {\n",
        "                                      '1_home_page':0, \n",
        "                                      '2_search_page':0, \n",
        "                                      '3_payment_page':0, \n",
        "                                      '4_payment_confirmation_page':0\n",
        "                                    },\n",
        "                          'Mobile' : \n",
        "                                    {\n",
        "                                      '1_home_page':0, \n",
        "                                      '2_search_page':0, \n",
        "                                      '3_payment_page':0, \n",
        "                                      '4_payment_confirmation_page':0 \n",
        "                                    }\n",
        "                        },\n",
        "               'Female':\n",
        "                        {\n",
        "                          'Desktop':\n",
        "                                    {\n",
        "                                      '1_home_page':0, \n",
        "                                      '2_search_page':0, \n",
        "                                      '3_payment_page':0, \n",
        "                                      '4_payment_confirmation_page':0\n",
        "                                    },\n",
        "                          'Mobile' : \n",
        "                                    {\n",
        "                                      '1_home_page':0, \n",
        "                                      '2_search_page':0, \n",
        "                                      '3_payment_page':0, \n",
        "                                      '4_payment_confirmation_page':0 \n",
        "                                    }\n",
        "                        }\n",
        "              },\n",
        "    '2015-02':\n",
        "              {\n",
        "                'Male':\n",
        "                        {\n",
        "                          'Desktop':\n",
        "                                    {\n",
        "                                      '1_home_page':0, \n",
        "                                      '2_search_page':0, \n",
        "                                      '3_payment_page':0, \n",
        "                                      '4_payment_confirmation_page':0\n",
        "                                    },\n",
        "                          'Mobile' : \n",
        "                                    {\n",
        "                                      '1_home_page':0, \n",
        "                                      '2_search_page':0, \n",
        "                                      '3_payment_page':0, \n",
        "                                      '4_payment_confirmation_page':0 \n",
        "                                    }\n",
        "                        },\n",
        "               'Female':\n",
        "                        {\n",
        "                          'Desktop':\n",
        "                                    {\n",
        "                                      '1_home_page':0, \n",
        "                                      '2_search_page':0, \n",
        "                                      '3_payment_page':0, \n",
        "                                      '4_payment_confirmation_page':0\n",
        "                                    },\n",
        "                          'Mobile' : \n",
        "                                    {\n",
        "                                      '1_home_page':0, \n",
        "                                      '2_search_page':0, \n",
        "                                      '3_payment_page':0, \n",
        "                                      '4_payment_confirmation_page':0 \n",
        "                                    }\n",
        "                        }\n",
        "              },\n",
        "    '2015-03':\n",
        "              {\n",
        "                'Male':\n",
        "                        {\n",
        "                          'Desktop':\n",
        "                                    {\n",
        "                                      '1_home_page':0, \n",
        "                                      '2_search_page':0, \n",
        "                                      '3_payment_page':0, \n",
        "                                      '4_payment_confirmation_page':0\n",
        "                                    },\n",
        "                          'Mobile' : \n",
        "                                    {\n",
        "                                      '1_home_page':0, \n",
        "                                      '2_search_page':0, \n",
        "                                      '3_payment_page':0, \n",
        "                                      '4_payment_confirmation_page':0 \n",
        "                                    }\n",
        "                        },\n",
        "               'Female':\n",
        "                        {\n",
        "                          'Desktop':\n",
        "                                    {\n",
        "                                      '1_home_page':0, \n",
        "                                      '2_search_page':0, \n",
        "                                      '3_payment_page':0, \n",
        "                                      '4_payment_confirmation_page':0\n",
        "                                    },\n",
        "                          'Mobile' : \n",
        "                                    {\n",
        "                                      '1_home_page':0, \n",
        "                                      '2_search_page':0, \n",
        "                                      '3_payment_page':0, \n",
        "                                      '4_payment_confirmation_page':0 \n",
        "                                    }\n",
        "                        }\n",
        "              },\n",
        "    '2015-04':\n",
        "              {\n",
        "                'Male':\n",
        "                        {\n",
        "                          'Desktop':\n",
        "                                    {\n",
        "                                      '1_home_page':0, \n",
        "                                      '2_search_page':0, \n",
        "                                      '3_payment_page':0, \n",
        "                                      '4_payment_confirmation_page':0\n",
        "                                    },\n",
        "                          'Mobile' : \n",
        "                                    {\n",
        "                                      '1_home_page':0, \n",
        "                                      '2_search_page':0, \n",
        "                                      '3_payment_page':0, \n",
        "                                      '4_payment_confirmation_page':0 \n",
        "                                    }\n",
        "                        },\n",
        "               'Female':\n",
        "                        {\n",
        "                          'Desktop':\n",
        "                                    {\n",
        "                                      '1_home_page':0, \n",
        "                                      '2_search_page':0, \n",
        "                                      '3_payment_page':0, \n",
        "                                      '4_payment_confirmation_page':0\n",
        "                                    },\n",
        "                          'Mobile' : \n",
        "                                    {\n",
        "                                      '1_home_page':0, \n",
        "                                      '2_search_page':0, \n",
        "                                      '3_payment_page':0, \n",
        "                                      '4_payment_confirmation_page':0 \n",
        "                                    }\n",
        "                        }\n",
        "              }\n",
        "}"
      ],
      "execution_count": 1,
      "outputs": []
    },
    {
      "cell_type": "code",
      "metadata": {
        "id": "n9St_1232QOD"
      },
      "source": [
        "file_path = '/content/click_stream3.csv'\n",
        "with open(file_path, mode='r') as csv_file: # открываем файл\n",
        "    csv_reader = csv.DictReader(csv_file, fieldnames=['ID','page','date', 'Device', 'Gender'])\n",
        "    for row in csv_reader:\n",
        "      page = list(row.items())[1][1] # вытаскиваем название страницы\n",
        "      event_date = list(row.items())[2][1][:-3] # вытаскиваем дату в формате YYYY-MM\n",
        "      device = list(row.items())[3][1] # вытаскиваем device\n",
        "      sex = list(row.items())[4][1] # вытаскиваем пол\n",
        "      test_dict_2[event_date][sex][device][page] += 1"
      ],
      "execution_count": null,
      "outputs": []
    },
    {
      "cell_type": "code",
      "metadata": {
        "id": "_8ms99Iq3oXH"
      },
      "source": [
        "import matplotlib.pyplot as plt\n",
        "import numpy as np\n",
        "%matplotlib inline"
      ],
      "execution_count": null,
      "outputs": []
    },
    {
      "cell_type": "code",
      "metadata": {
        "cellView": "form",
        "id": "hHdCqh82ESIN"
      },
      "source": [
        "#@title Выгрузка по страницам\n",
        "arr_y1 = [list(test_dict_2['2015-01']['Male']['Desktop'].items())[0][1] +\n",
        "             list(test_dict_2['2015-01']['Male']['Mobile'].items())[0][1],\n",
        "          list(test_dict_2['2015-02']['Male']['Desktop'].items())[0][1] +\n",
        "              list(test_dict_2['2015-02']['Male']['Mobile'].items())[0][1],\n",
        "          list(test_dict_2['2015-03']['Male']['Desktop'].items())[0][1]+\n",
        "             list(test_dict_2['2015-03']['Male']['Mobile'].items())[0][1],\n",
        "          list(test_dict_2['2015-04']['Male']['Desktop'].items())[0][1]+\n",
        "              list(test_dict_2['2015-04']['Male']['Mobile'].items())[0][1]]\n",
        "arr_y2 = [list(test_dict_2['2015-01']['Female']['Desktop'].items())[0][1] +\n",
        "             list(test_dict_2['2015-01']['Female']['Mobile'].items())[0][1],\n",
        "          list(test_dict_2['2015-02']['Female']['Desktop'].items())[0][1] +\n",
        "              list(test_dict_2['2015-02']['Female']['Mobile'].items())[0][1],\n",
        "          list(test_dict_2['2015-03']['Female']['Desktop'].items())[0][1]+\n",
        "             list(test_dict_2['2015-03']['Female']['Mobile'].items())[0][1],\n",
        "          list(test_dict_2['2015-04']['Female']['Desktop'].items())[0][1]+\n",
        "              list(test_dict_2['2015-04']['Female']['Mobile'].items())[0][1]]"
      ],
      "execution_count": null,
      "outputs": []
    },
    {
      "cell_type": "code",
      "metadata": {
        "colab": {
          "base_uri": "https://localhost:8080/",
          "height": 281
        },
        "cellView": "form",
        "id": "5mI1PVsr3syO",
        "outputId": "561b10c5-043b-4b46-eb06-9535a714c908"
      },
      "source": [
        "#@title Количество пользователей на всех устройствах по полу\n",
        "x1 = ['2015-01', '2015-02', '2015-03', '2015-04'] \n",
        "y1 = arr_y1 #male\n",
        "y2 = arr_y2 #female\n",
        "\n",
        "ax = plt.axes()\n",
        "ax.yaxis.grid(True, zorder = 1)\n",
        "\n",
        "xs = range(len(x1))\n",
        "plt.title('Количество пользователей на всех устройствах по полу')\n",
        "plt.bar([x - 0.1 for x in xs], y1,\n",
        "        width = 0.2, color = 'blue', alpha = 0.7, label = 'male',\n",
        "        zorder = 2)\n",
        "plt.bar([x + 0.1 for x in xs], y2,\n",
        "        width = 0.2, color = 'red', alpha = 0.7, label = 'female',\n",
        "        zorder = 2)\n",
        "plt.xticks(xs, x1)\n",
        "\n",
        "plt.legend(loc='lower right')\n",
        "plt.show()"
      ],
      "execution_count": null,
      "outputs": [
        {
          "output_type": "display_data",
          "data": {
            "image/png": "[encoded data removed]",
            "text/plain": [
              "<Figure size 432x288 with 1 Axes>"
            ]
          },
          "metadata": {
            "tags": [],
            "needs_background": "light"
          }
        }
      ]
    },
    {
      "cell_type": "code",
      "metadata": {
        "id": "Gb5EQTIqLJji",
        "cellView": "form"
      },
      "source": [
        "#@title Выгрузка по страницам\n",
        "arr_y3 = [list(test_dict_2['2015-01']['Male']['Desktop'].items())[1][1] +\n",
        "             list(test_dict_2['2015-01']['Male']['Mobile'].items())[1][1],\n",
        "          list(test_dict_2['2015-02']['Male']['Desktop'].items())[1][1] +\n",
        "              list(test_dict_2['2015-02']['Male']['Mobile'].items())[1][1],\n",
        "          list(test_dict_2['2015-03']['Male']['Desktop'].items())[1][1]+\n",
        "             list(test_dict_2['2015-03']['Male']['Mobile'].items())[1][1],\n",
        "          list(test_dict_2['2015-04']['Male']['Desktop'].items())[1][1]+\n",
        "              list(test_dict_2['2015-04']['Male']['Mobile'].items())[1][1]]\n",
        "arr_y4 = [list(test_dict_2['2015-01']['Female']['Desktop'].items())[1][1] +\n",
        "             list(test_dict_2['2015-01']['Female']['Mobile'].items())[1][1],\n",
        "          list(test_dict_2['2015-02']['Female']['Desktop'].items())[1][1] +\n",
        "              list(test_dict_2['2015-02']['Female']['Mobile'].items())[1][1],\n",
        "          list(test_dict_2['2015-03']['Female']['Desktop'].items())[1][1]+\n",
        "             list(test_dict_2['2015-03']['Female']['Mobile'].items())[1][1],\n",
        "          list(test_dict_2['2015-04']['Female']['Desktop'].items())[1][1]+\n",
        "              list(test_dict_2['2015-04']['Female']['Mobile'].items())[1][1]]"
      ],
      "execution_count": null,
      "outputs": []
    },
    {
      "cell_type": "code",
      "metadata": {
        "colab": {
          "base_uri": "https://localhost:8080/",
          "height": 281
        },
        "id": "f4BTsUlWK-yw",
        "cellView": "form",
        "outputId": "157d2d69-fd8a-48f0-b5d7-e47a8fd8a4af"
      },
      "source": [
        "#@title Количество посещений search_page на всех устройствах по полу\n",
        "x1 = ['2015-01', '2015-02', '2015-03', '2015-04'] \n",
        "y1 = arr_y3 #male\n",
        "y2 = arr_y4 #female\n",
        "\n",
        "ax = plt.axes()\n",
        "ax.yaxis.grid(True, zorder = 1)\n",
        "\n",
        "xs = range(len(x1))\n",
        "plt.title('Количество посещений search_page на всех устройствах по полу')\n",
        "plt.bar([x - 0.1 for x in xs], y1,\n",
        "        width = 0.2, color = 'blue', alpha = 0.7, label = 'male',\n",
        "        zorder = 2)\n",
        "plt.bar([x + 0.1 for x in xs], y2,\n",
        "        width = 0.2, color = 'red', alpha = 0.7, label = 'female',\n",
        "        zorder = 2)\n",
        "plt.xticks(xs, x1)\n",
        "\n",
        "plt.legend(loc='lower right')\n",
        "plt.show()"
      ],
      "execution_count": null,
      "outputs": [
        {
          "output_type": "display_data",
          "data": {
            "image/png": "[encoded data removed]",
            "text/plain": [
              "<Figure size 432x288 with 1 Axes>"
            ]
          },
          "metadata": {
            "tags": [],
            "needs_background": "light"
          }
        }
      ]
    },
    {
      "cell_type": "code",
      "metadata": {
        "cellView": "form",
        "id": "zsRoeQMQLnl6"
      },
      "source": [
        "#@title Выгрузка по страницам\n",
        "arr_y5 = [list(test_dict_2['2015-01']['Male']['Desktop'].items())[2][1] +\n",
        "             list(test_dict_2['2015-01']['Male']['Mobile'].items())[2][1],\n",
        "          list(test_dict_2['2015-02']['Male']['Desktop'].items())[2][1] +\n",
        "              list(test_dict_2['2015-02']['Male']['Mobile'].items())[2][1],\n",
        "          list(test_dict_2['2015-03']['Male']['Desktop'].items())[2][1]+\n",
        "             list(test_dict_2['2015-03']['Male']['Mobile'].items())[2][1],\n",
        "          list(test_dict_2['2015-04']['Male']['Desktop'].items())[2][1]+\n",
        "              list(test_dict_2['2015-04']['Male']['Mobile'].items())[2][1]]\n",
        "arr_y6 = [list(test_dict_2['2015-01']['Female']['Desktop'].items())[2][1] +\n",
        "             list(test_dict_2['2015-01']['Female']['Mobile'].items())[2][1],\n",
        "          list(test_dict_2['2015-02']['Female']['Desktop'].items())[2][1] +\n",
        "              list(test_dict_2['2015-02']['Female']['Mobile'].items())[2][1],\n",
        "          list(test_dict_2['2015-03']['Female']['Desktop'].items())[2][1]+\n",
        "             list(test_dict_2['2015-03']['Female']['Mobile'].items())[2][1],\n",
        "          list(test_dict_2['2015-04']['Female']['Desktop'].items())[2][1]+\n",
        "              list(test_dict_2['2015-04']['Female']['Mobile'].items())[2][1]]"
      ],
      "execution_count": null,
      "outputs": []
    },
    {
      "cell_type": "code",
      "metadata": {
        "colab": {
          "base_uri": "https://localhost:8080/",
          "height": 281
        },
        "cellView": "form",
        "id": "UBWkGjxwLxLe",
        "outputId": "8533a0c8-dd16-4d10-dd43-3735001cd609"
      },
      "source": [
        "#@title Количество посещений payment_page на всех устройствах по полу\n",
        "x1 = ['2015-01', '2015-02', '2015-03', '2015-04'] \n",
        "y1 = arr_y5 #male\n",
        "y2 = arr_y6 #female\n",
        "\n",
        "ax = plt.axes()\n",
        "ax.yaxis.grid(True, zorder = 1)\n",
        "\n",
        "xs = range(len(x1))\n",
        "plt.title('Количество посещений payment_page на всех устройствах по полу')\n",
        "plt.bar([x - 0.1 for x in xs], y1,\n",
        "        width = 0.2, color = 'blue', alpha = 0.7, label = 'male',\n",
        "        zorder = 2)\n",
        "plt.bar([x + 0.1 for x in xs], y2,\n",
        "        width = 0.2, color = 'red', alpha = 0.7, label = 'female',\n",
        "        zorder = 2)\n",
        "plt.xticks(xs, x1)\n",
        "\n",
        "plt.legend(loc='lower right')\n",
        "plt.show()"
      ],
      "execution_count": null,
      "outputs": [
        {
          "output_type": "display_data",
          "data": {
            "image/png": "[encoded data removed]",
            "text/plain": [
              "<Figure size 432x288 with 1 Axes>"
            ]
          },
          "metadata": {
            "tags": [],
            "needs_background": "light"
          }
        }
      ]
    },
    {
      "cell_type": "code",
      "metadata": {
        "cellView": "form",
        "id": "qXCq62XcNrvL"
      },
      "source": [
        "#@title Выгрузка по страницам\n",
        "arr_y7 = [list(test_dict_2['2015-01']['Male']['Desktop'].items())[3][1] +\n",
        "             list(test_dict_2['2015-01']['Male']['Mobile'].items())[3][1],\n",
        "          list(test_dict_2['2015-02']['Male']['Desktop'].items())[3][1] +\n",
        "              list(test_dict_2['2015-02']['Male']['Mobile'].items())[3][1],\n",
        "          list(test_dict_2['2015-03']['Male']['Desktop'].items())[3][1]+\n",
        "             list(test_dict_2['2015-03']['Male']['Mobile'].items())[3][1],\n",
        "          list(test_dict_2['2015-04']['Male']['Desktop'].items())[3][1]+\n",
        "              list(test_dict_2['2015-04']['Male']['Mobile'].items())[3][1]]\n",
        "arr_y8 = [list(test_dict_2['2015-01']['Female']['Desktop'].items())[3][1] +\n",
        "             list(test_dict_2['2015-01']['Female']['Mobile'].items())[3][1],\n",
        "          list(test_dict_2['2015-02']['Female']['Desktop'].items())[3][1] +\n",
        "              list(test_dict_2['2015-02']['Female']['Mobile'].items())[3][1],\n",
        "          list(test_dict_2['2015-03']['Female']['Desktop'].items())[3][1]+\n",
        "             list(test_dict_2['2015-03']['Female']['Mobile'].items())[3][1],\n",
        "          list(test_dict_2['2015-04']['Female']['Desktop'].items())[3][1]+\n",
        "              list(test_dict_2['2015-04']['Female']['Mobile'].items())[3][1]]"
      ],
      "execution_count": null,
      "outputs": []
    },
    {
      "cell_type": "code",
      "metadata": {
        "colab": {
          "base_uri": "https://localhost:8080/",
          "height": 281
        },
        "cellView": "form",
        "id": "ZplNzRIoNzIE",
        "outputId": "8f472092-50aa-43eb-d8f7-3129fe6f6124"
      },
      "source": [
        "#@title Количество покупателей на всех устройствах по полу\n",
        "x1 = ['2015-01', '2015-02', '2015-03', '2015-04'] \n",
        "y1 = arr_y7 #male\n",
        "y2 = arr_y8 #female\n",
        "\n",
        "ax = plt.axes()\n",
        "ax.yaxis.grid(True, zorder = 1)\n",
        "\n",
        "xs = range(len(x1))\n",
        "plt.title('Количество покупателей на всех устройствах по полу')\n",
        "plt.bar([x - 0.1 for x in xs], y1,\n",
        "        width = 0.2, color = 'blue', alpha = 0.7, label = 'male',\n",
        "        zorder = 2)\n",
        "plt.bar([x + 0.1 for x in xs], y2,\n",
        "        width = 0.2, color = 'red', alpha = 0.7, label = 'female',\n",
        "        zorder = 2)\n",
        "plt.xticks(xs, x1)\n",
        "\n",
        "plt.legend(loc='upper right')\n",
        "plt.show()"
      ],
      "execution_count": null,
      "outputs": [
        {
          "output_type": "display_data",
          "data": {
            "image/png": "[encoded data removed]",
            "text/plain": [
              "<Figure size 432x288 with 1 Axes>"
            ]
          },
          "metadata": {
            "tags": [],
            "needs_background": "light"
          }
        }
      ]
    },
    {
      "cell_type": "markdown",
      "metadata": {
        "id": "n0H1IpyFPptB"
      },
      "source": [
        "<h3>Конечный итог</h3>\n",
        "<ul>\n",
        "  <li>Общее количество пользователей показывает, что женщин и мужчин было примерно одинакового</li>\n",
        "  <li>Такой же вывод можно сделать для страниц search_page и payment_page</li>\n",
        "  <li>Количество покупателей есть небольшое наблюдение (гипотеза) с моей стороны: в январе (01 месяц) наблюдается преобладание покупателей женского пола. Может, это связано с тем, что впереди февральский мужской праздник, а как известно - женщины более тщательно и ЗАРАНЕЕ подходят к выбору подарка -> вероятно, данный магазин продает что-то связанное с мужскими хобби (ну или я прослушал на лекциях, что именно там продают)\n",
        "  </li>"
      ]
    }
  ]
}