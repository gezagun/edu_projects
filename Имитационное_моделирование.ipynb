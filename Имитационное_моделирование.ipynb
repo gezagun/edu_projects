{
  "nbformat": 4,
  "nbformat_minor": 0,
  "metadata": {
    "anaconda-cloud": {},
    "kernelspec": {
      "display_name": "Python 3",
      "language": "python",
      "name": "python3"
    },
    "language_info": {
      "codemirror_mode": {
        "name": "ipython",
        "version": 3
      },
      "file_extension": ".py",
      "mimetype": "text/x-python",
      "name": "python",
      "nbconvert_exporter": "python",
      "pygments_lexer": "ipython3",
      "version": "3.7.0"
    },
    "colab": {
      "name": "Имитационное_моделирование.ipynb",
      "provenance": []
    }
  },
  "cells": [
    {
      "cell_type": "code",
      "metadata": {
        "colab": {
          "base_uri": "https://localhost:8080/"
        },
        "id": "PLH0Hqxtgp7p",
        "outputId": "93a224f0-3826-4437-8d68-7313734d8968"
      },
      "source": [
        "#Задание 1\n",
        "import math\n",
        "import numpy as np\n",
        "import scipy.linalg\n",
        "from scipy.linalg import sqrtm\n",
        "from scipy.stats.distributions import chi2\n",
        "\n",
        "def neymann(f,a,b,M): \n",
        "    while 1==1:\n",
        "        u1=np.random.random() # u1 и u2 две независимые равномерно на [0,1] распределенные случайные величины\n",
        "        u2=np.random.random() \n",
        "        x1=a+(b-a)*u1\n",
        "        x2=M*u2\n",
        "        if x2<=f(x1):\n",
        "            return x1\n",
        "#N - размер выборки\n",
        "#n - количество интервалов\n",
        "N=1000\n",
        "n=int(3.222*math.log10(N)) # количество интервалов определяется по формуле Стреджесса\n",
        "x=np.zeros(N) \n",
        "for i in range(N):\n",
        "    x[i]=neymann(lambda x: (2+math.cos(x))/4/math.pi, 0,2*math.pi,0.75/math.pi)\n",
        "a=[2*math.pi*i/n for i in range(n+1)]\n",
        "F=lambda x: x/2/math.pi+math.sin(x)/4/math.pi\n",
        "emp_chi2=0\n",
        "for i in range(n):\n",
        "    theor_fr=(F(a[i+1])-F(a[i]))*N\n",
        "    emp_fr=len([y for y in x if (y>=a[i])and(y<a[i+1])])\n",
        "    emp_chi2+=(theor_fr-emp_fr)*(theor_fr-emp_fr)/theor_fr\n",
        "print(\"Chi2:\",emp_chi2)\n",
        "print(\"Критическое значение:\",chi2.ppf(0.975, df=n-1))\n",
        "if emp_chi2<chi2.ppf(0.975, df=n-1):\n",
        "    print(\"Гипотеза подтвердилась\")\n",
        "else:\n",
        "    print(\"Гипотеза опроверглась\")\n",
        "        "
      ],
      "execution_count": 1,
      "outputs": [
        {
          "output_type": "stream",
          "name": "stdout",
          "text": [
            "Chi2: 10.835178972509127\n",
            "Критическое значение: 17.534546139484647\n",
            "Гипотеза подтвердилась\n"
          ]
        }
      ]
    },
    {
      "cell_type": "code",
      "metadata": {
        "colab": {
          "base_uri": "https://localhost:8080/"
        },
        "id": "2d-CMyQGgp7q",
        "outputId": "f824805a-d554-4ae5-a470-6b3a0347a89e"
      },
      "source": [
        "#Задание 2\n",
        "C=[[1,0,1,0.5],[0,1,1,0],[1,1,2,0],[0.5,0,0,4]]\n",
        "mu=[1,2,3,4]\n",
        "\n",
        "d=len(mu)\n",
        "N=1000\n",
        "\n",
        "x=np.zeros((N,d))\n",
        "A=sqrtm(C)\n",
        "for i in range(N):\n",
        "    x[i,:]=np.dot(A,np.random.normal(0,1,d))+mu\n",
        "    "
      ],
      "execution_count": 2,
      "outputs": [
        {
          "output_type": "stream",
          "name": "stderr",
          "text": [
            "/usr/local/lib/python3.7/dist-packages/ipykernel_launcher.py:11: ComplexWarning: Casting complex values to real discards the imaginary part\n",
            "  # This is added back by InteractiveShellApp.init_path()\n"
          ]
        }
      ]
    },
    {
      "cell_type": "code",
      "metadata": {
        "colab": {
          "base_uri": "https://localhost:8080/"
        },
        "id": "AYSC-l8Ugp7q",
        "outputId": "fcb497d6-36cf-457c-cca0-b49ffbc00db2"
      },
      "source": [
        "i=0\n",
        "j=3\n",
        "r0=C[i][j]/math.sqrt(C[i][i]*C[j][j])\n",
        "r=np.corrcoef(x[:,i],x[:,j])[0][1]\n",
        "print(\"r=\",r)\n",
        "print(\"r0=\",r0)\n",
        "S=0.5*abs(math.log((1+r)/(1-r)*(1-r0)/(1+r0)))*math.sqrt(N-3) \n",
        "S_crit=scipy.stats.norm.ppf(0.975) \n",
        "print(\"Статистическое значение:\",S)\n",
        "print(\"Критическое значение:\",S_crit)\n",
        "if S<S_crit:\n",
        "    print(\"Коэффициент корреляции соответствует теоретическому значению\")\n",
        "else:\n",
        "    print(\"Коэффициент корреляции отличается от теоретического значения\")"
      ],
      "execution_count": 3,
      "outputs": [
        {
          "output_type": "stream",
          "name": "stdout",
          "text": [
            "r= 0.26419092666889227\n",
            "r0= 0.25\n",
            "Статистическое значение: 0.47980755201303976\n",
            "Критическое значение: 1.959963984540054\n",
            "Коэффициент корреляции соответствует теоретическому значению\n"
          ]
        }
      ]
    },
    {
      "cell_type": "code",
      "metadata": {
        "colab": {
          "base_uri": "https://localhost:8080/"
        },
        "id": "z8NMG9k7gp7r",
        "outputId": "adf7f2f6-5af0-40a3-a643-d032779e0447"
      },
      "source": [
        "#Задание2\n",
        "def inside_triangle(X,tr):\n",
        "    for [A,B,C] in [[tr[0],tr[1],tr[2]],[tr[0],tr[2],tr[1]],[tr[1],tr[2],tr[0]]]:\n",
        "        b=[B[0]-A[0],B[1]-A[1]]\n",
        "        c=[C[0]-A[0],C[1]-A[1]]\n",
        "        x=[X[0]-A[0],X[1]-A[1]]\n",
        "        bc=b[0]*c[1]-b[1]*c[0]\n",
        "        bx=b[0]*x[1]-b[1]*x[0]\n",
        "        if bc*bx<0:\n",
        "            return False\n",
        "    return True\n",
        "tr1=[[-1,-1],[0,1],[1,0]]\n",
        "tr2=[[0,0],[0,3],[1.5,-4]]\n",
        "A=np.max([abs(tr1[i][j]) for i in range(3) for j in range(2)]+[abs(tr2[i][j]) for i in range(3) for j in range(2)])\n",
        "N=10000\n",
        "S=0\n",
        "for i in range(N):\n",
        "    u1=np.random.random()\n",
        "    u2=np.random.random()\n",
        "    X=[2*A*u1-A,2*A*u2-A]\n",
        "    if inside_triangle(X,tr1) and inside_triangle(X,tr2):\n",
        "        S+=4*A**2/N\n",
        "print(\"Площадь пересечения:\", S)"
      ],
      "execution_count": 4,
      "outputs": [
        {
          "output_type": "stream",
          "name": "stdout",
          "text": [
            "Площадь пересечения: 0.5056000000000005\n"
          ]
        }
      ]
    },
    {
      "cell_type": "code",
      "metadata": {
        "colab": {
          "base_uri": "https://localhost:8080/"
        },
        "id": "9KA0kW6Lgp7r",
        "outputId": "e7dc95cc-cf92-4897-c4e4-133834bc7e91"
      },
      "source": [
        "#Задание3\n",
        "def capacity(v): #скорость ветра v по закону\n",
        "    if (v>=4) and (v<15):\n",
        "        return math.cos(v*math.pi/11+7*math.pi/11)+1 \n",
        "    if (v>=15) and (v<25):\n",
        "        return 7/4+v/30+v**2/900\n",
        "    return 0\n",
        "M=200\n",
        "betta=1.5\n",
        "lamb=100\n",
        "caps=np.zeros(M)\n",
        "for i in range(M):\n",
        "    x=lamb*(-math.log(1-np.random.random()))**(1/betta)\n",
        "    caps[i]=capacity(x)\n",
        "m, se = np.mean(caps), scipy.stats.sem(caps)\n",
        "h = se * scipy.stats.t._ppf((1+0.95)/2., M-1)\n",
        "print(\"Распределение Вейбулла:\",[m-h,m+h])\n",
        "\n",
        "a=2\n",
        "b=20\n",
        "\n",
        "for i in range(M):\n",
        "    while 1==1:\n",
        "        x=lamb*(-math.log(1-np.random.random()))**(1/betta)\n",
        "        if (x>a) and (x<=b):\n",
        "            break\n",
        "    caps[i]=capacity(x) \n",
        "m, se = np.mean(caps), scipy.stats.sem(caps)\n",
        "h = se * scipy.stats.t._ppf((1+0.95)/2., M-1)\n",
        "print(\"Усеченное до интервала распределение Вейбулла:\",[m-h,m+h])\n"
      ],
      "execution_count": 5,
      "outputs": [
        {
          "output_type": "stream",
          "name": "stdout",
          "text": [
            "Распределение Вейбулла: [0.16415768722402319, 0.3831698274907673]\n",
            "Усеченное до интервала распределение Вейбулла: [1.4536168223732149, 1.7314402717109247]\n"
          ]
        }
      ]
    },
    {
      "cell_type": "code",
      "metadata": {
        "colab": {
          "base_uri": "https://localhost:8080/"
        },
        "id": "fe7XPKWAgp7r",
        "outputId": "2c592acc-ff87-4872-d067-124640708ae3"
      },
      "source": [
        "#Задание 4\n",
        "R=0.15\n",
        "dE=200\n",
        "p1=0.6\n",
        "p2=0.5\n",
        "l=0.1\n",
        "#N - текущее количество нейтронов, M - количество экспериментов\n",
        "M=10000\n",
        "S=0\n",
        "for k in range(M):\n",
        "    neutrons=[[0,0]]\n",
        "    N=1\n",
        "    E=0\n",
        "    while E<1000000:\n",
        "        for i in range(N):\n",
        "            x=neutrons[i]\n",
        "            dist=l*math.log(1-np.random.random())\n",
        "            ksi=np.random.normal()\n",
        "            t=ksi/np.linalg.norm(ksi)\n",
        "            x=x+dist*t\n",
        "            neutrons[i]=x\n",
        "            if np.linalg.norm(x)>R:\n",
        "                neutrons[i]=[]\n",
        "            else:\n",
        "                if np.random.random()>p1:\n",
        "                    E+=dE\n",
        "                    neutrons[i]=[]\n",
        "                    neutrons=neutrons+[x]+[x]\n",
        "                    if np.random.random()>p2:\n",
        "                        neutrons=neutrons+[x]\n",
        "        neutrons=[x for x in neutrons if len(x)==2]\n",
        "        N=len(neutrons)\n",
        "        if N==0:\n",
        "            break\n",
        "    if E>=1000000:\n",
        "        print(\"Неконтролируемая ядерная реакция/выделенная энергия > 10^6\")\n",
        "    S+=E/M\n",
        "print(\"Среднее количество энергии:\")\n",
        "print(S)"
      ],
      "execution_count": 6,
      "outputs": [
        {
          "output_type": "stream",
          "name": "stdout",
          "text": [
            "Среднее количество энергии:\n",
            "987.2599999999743\n"
          ]
        }
      ]
    },
    {
      "cell_type": "code",
      "metadata": {
        "colab": {
          "base_uri": "https://localhost:8080/"
        },
        "id": "WgOViFQ6gp7s",
        "outputId": "58a7895c-c6dd-4b5a-d8dc-285fde512a36"
      },
      "source": [
        "#Задание5\n",
        "N=17\n",
        "M=100000\n",
        "S=0\n",
        "for i in range(M):\n",
        "    x=[[0,0]]\n",
        "    w=1\n",
        "    for step in range(N):\n",
        "        neighbors=[[x[-1][0]+1,x[-1][1]],[x[-1][0]-1,x[-1][1]],[x[-1][0],x[-1][1]+1],[x[-1][0],x[-1][1]-1]]\n",
        "        neighbors=[z for z in neighbors if z not in x]\n",
        "        d=len(neighbors)\n",
        "        if d==0:\n",
        "            w=0\n",
        "            break\n",
        "        x.append(neighbors[np.random.randint(0,d)])\n",
        "        w=w*d\n",
        "    S=S+w\n",
        "S/M"
      ],
      "execution_count": 7,
      "outputs": [
        {
          "output_type": "execute_result",
          "data": {
            "text/plain": [
              "46407199.76496"
            ]
          },
          "metadata": {},
          "execution_count": 7
        }
      ]
    },
    {
      "cell_type": "code",
      "metadata": {
        "colab": {
          "base_uri": "https://localhost:8080/"
        },
        "id": "2bePyrJtgp7s",
        "outputId": "e3d9d419-3cc3-455e-cf0e-ff468f41a934"
      },
      "source": [
        "#Задание 6 \n",
        "import numpy as np\n",
        "x0=1\n",
        "y0=1\n",
        "z0=1\n",
        "R=1.2\n",
        "S0=(x0**2+y0**2+z0**2-R**2)**0.5\n",
        "\n",
        "N=10000 #размер выборки\n",
        "I=0\n",
        "for i in range(N):\n",
        "    u1=np.random.random()\n",
        "    u2=np.random.random()\n",
        "    phi=u1*2*math.pi\n",
        "    theta=np.arcsin(u2**0.5)\n",
        "    x=math.cos(phi)*math.sin(theta)\n",
        "    y=math.sin(phi)*math.sin(theta)\n",
        "    z=math.cos(theta)\n",
        "    S=x*x0+y*y0+z*z0\n",
        "    if S>=S0:\n",
        "        I+=math.pi/N\n",
        "print(\"Значение выборки:\")\n",
        "print(I)\n",
        "print(\"Дисперсия:\")\n",
        "print(I*(math.pi-I)/N)\n",
        "#Стандартный метод Монте-Карло\n",
        "I=0\n",
        "I2=0\n",
        "for i in range(N):\n",
        "    u1=np.random.random()\n",
        "    u2=np.random.random()\n",
        "    phi=u1*2*math.pi\n",
        "    theta=np.arccos(1-u2)\n",
        "    x=math.cos(phi)*math.sin(theta)\n",
        "    y=math.sin(phi)*math.sin(theta)\n",
        "    z=math.cos(theta)\n",
        "    S=x*x0+y*y0+z*z0\n",
        "    if S>=S0:\n",
        "        I+=2*math.pi/N*z\n",
        "        I2+=2*math.pi/N*z**2\n",
        "print(\"Стандартный метод Монте-Карло:\")\n",
        "print(I)    \n",
        "print(\"Дисперсия:\")\n",
        "print(1/N*(2*math.pi*I2-I**2))"
      ],
      "execution_count": 8,
      "outputs": [
        {
          "output_type": "stream",
          "name": "stdout",
          "text": [
            "Значение выборки:\n",
            "0.8771326688822365\n",
            "Дисперсия:\n",
            "0.00019862318299635677\n",
            "Стандартный метод Монте-Карло:\n",
            "0.8802908740222377\n",
            "Дисперсия:\n",
            "0.00028801931804885194\n"
          ]
        }
      ]
    }
  ]
}